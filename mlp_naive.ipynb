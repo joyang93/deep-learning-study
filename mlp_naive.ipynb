{
 "cells": [
  {
   "cell_type": "markdown",
   "metadata": {},
   "source": [
    "### LOSS 함수"
   ]
  },
  {
   "cell_type": "markdown",
   "metadata": {},
   "source": [
    "#### 1. 크로스 엔트로피"
   ]
  },
  {
   "cell_type": "code",
   "execution_count": 1,
   "metadata": {
    "collapsed": true
   },
   "outputs": [],
   "source": [
    "import numpy as np"
   ]
  },
  {
   "cell_type": "code",
   "execution_count": 2,
   "metadata": {
    "collapsed": false
   },
   "outputs": [],
   "source": [
    "def cross_entropy(one_hot_vector , y):\n",
    "    return -sum(one_hot_vector * np.log(y +  1e-10) )"
   ]
  },
  {
   "cell_type": "code",
   "execution_count": 3,
   "metadata": {
    "collapsed": true
   },
   "outputs": [],
   "source": [
    "a = np.array([0,0,1,0,0,0,0,0,0,0])\n",
    "b = np.array([0.1,0.05,0.6,0,0.05,0.1,0,0.1,0,0])"
   ]
  },
  {
   "cell_type": "code",
   "execution_count": 4,
   "metadata": {
    "collapsed": false
   },
   "outputs": [
    {
     "data": {
      "text/plain": [
       "0.51082562359932404"
      ]
     },
     "execution_count": 4,
     "metadata": {},
     "output_type": "execute_result"
    }
   ],
   "source": [
    "cross_entropy(a,b)"
   ]
  },
  {
   "cell_type": "markdown",
   "metadata": {},
   "source": [
    "#### 2. MSE"
   ]
  },
  {
   "cell_type": "code",
   "execution_count": 5,
   "metadata": {
    "collapsed": true
   },
   "outputs": [],
   "source": [
    "def MSE(a,b):\n",
    "    return np.sum((a-b)**2)/2"
   ]
  },
  {
   "cell_type": "code",
   "execution_count": 6,
   "metadata": {
    "collapsed": false
   },
   "outputs": [
    {
     "data": {
      "text/plain": [
       "0.097500000000000031"
      ]
     },
     "execution_count": 6,
     "metadata": {},
     "output_type": "execute_result"
    }
   ],
   "source": [
    "MSE(a,b)"
   ]
  },
  {
   "cell_type": "markdown",
   "metadata": {},
   "source": [
    "### Activation 함수"
   ]
  },
  {
   "cell_type": "markdown",
   "metadata": {},
   "source": [
    "#### 1. sigmoid"
   ]
  },
  {
   "cell_type": "code",
   "execution_count": 7,
   "metadata": {
    "collapsed": true
   },
   "outputs": [],
   "source": [
    "def sigmoid(x):\n",
    "    return 1/(1+np.exp(-x))"
   ]
  },
  {
   "cell_type": "markdown",
   "metadata": {},
   "source": [
    "#### 2. RELU"
   ]
  },
  {
   "cell_type": "code",
   "execution_count": 8,
   "metadata": {
    "collapsed": true
   },
   "outputs": [],
   "source": [
    "def RELU(x):\n",
    "    return np.maximum(0, x)"
   ]
  },
  {
   "cell_type": "markdown",
   "metadata": {},
   "source": [
    "### 초기화 함수"
   ]
  },
  {
   "cell_type": "code",
   "execution_count": 9,
   "metadata": {
    "collapsed": true
   },
   "outputs": [],
   "source": [
    "def Xavier(a,b):\n",
    "    w = np.random.randn(a , b) / np.sqrt(a/2)\n",
    "    return w"
   ]
  },
  {
   "cell_type": "markdown",
   "metadata": {},
   "source": [
    "### MNIST"
   ]
  },
  {
   "cell_type": "code",
   "execution_count": 10,
   "metadata": {
    "collapsed": true
   },
   "outputs": [],
   "source": [
    "data_file = open(\"mnist_train.csv\", \"r\")\n",
    "training_data = data_file.readlines()\n",
    "data_file.close()\n",
    "\n",
    "test_data_file = open(\"mnist_test.csv\", \"r\")\n",
    "test_data = test_data_file.readlines()\n",
    "test_data_file.close()"
   ]
  },
  {
   "cell_type": "markdown",
   "metadata": {},
   "source": [
    "#### 가중치 초기화"
   ]
  },
  {
   "cell_type": "code",
   "execution_count": 69,
   "metadata": {
    "collapsed": false
   },
   "outputs": [
    {
     "data": {
      "text/plain": [
       "((784, 100), (100, 100), (100, 10))"
      ]
     },
     "execution_count": 69,
     "metadata": {},
     "output_type": "execute_result"
    }
   ],
   "source": [
    "inputs = 784\n",
    "hiddens1 = 100\n",
    "hiddens2 = 100\n",
    "outputs = 10\n",
    "w1 = Xavier(inputs, hiddens1)\n",
    "w2 = Xavier(hiddens1, hiddens2)\n",
    "w3 = Xavier(hiddens2, outputs)\n",
    "w1.shape, w2.shape, w3.shape"
   ]
  },
  {
   "cell_type": "markdown",
   "metadata": {},
   "source": [
    "#### Train"
   ]
  },
  {
   "cell_type": "code",
   "execution_count": 71,
   "metadata": {
    "collapsed": false
   },
   "outputs": [
    {
     "name": "stderr",
     "output_type": "stream",
     "text": [
      "C:\\Users\\good\\Anaconda3\\lib\\site-packages\\ipykernel\\__main__.py:2: RuntimeWarning: overflow encountered in exp\n",
      "  from ipykernel import kernelapp as app\n"
     ]
    }
   ],
   "source": [
    "epoch = 1\n",
    "lr = 0.01\n",
    "result = []\n",
    "for ech in range(0, epoch):\n",
    "    for i,x in enumerate(training_data):\n",
    "        target = np.array(np.zeros(outputs) + 0.01, ndmin=2)\n",
    "        target[0][int(training_data[i][0])] = 0.99\n",
    "        x = np.asfarray(x.split(\",\"))\n",
    "\n",
    "        # feed foward\n",
    "        layer1 = sigmoid(np.dot(x[1:], w1)) # layer1 = sigmoid(x*w1)\n",
    "        layer2 = sigmoid(np.dot(layer1, w2))   # layer2 = sigmoid(layer1*w2) \n",
    "        layer3 = sigmoid(np.dot(layer2 , w3))    # layer3 = sigmoid(layer2*w3)\n",
    "\n",
    "        # backpropagation\n",
    "        d_w3 = (target - layer3)*(layer3 * (1 - layer3))\n",
    "        d_w2 = d_w3.dot(w3.T)*(layer2 * (1 - layer2))\n",
    "        d_w1 = d_w2.dot(w2.T) *(layer1 * (1 - layer1))\n",
    "\n",
    "        # update\n",
    "        w3 = w3 + lr * d_w3.T.dot(np.array(layer2, ndmin = 2)).T\n",
    "        w2 = w2 + lr * d_w2.T.dot(np.array(layer1 , ndmin = 2)).T\n",
    "        w1 = w1 + lr * d_w1.T.dot(np.array(x[1:], ndmin = 2)).T\n",
    "\n"
   ]
  },
  {
   "cell_type": "markdown",
   "metadata": {},
   "source": [
    "#### 얻은 파라미터로 predict하는 함수"
   ]
  },
  {
   "cell_type": "code",
   "execution_count": 70,
   "metadata": {
    "collapsed": true
   },
   "outputs": [],
   "source": [
    "def predict( x):\n",
    "    # 문자열을 float로 변환\n",
    "    data = np.asfarray(x.split(\",\"))\n",
    "    # 라벨 제거\n",
    "    data = data[1:]\n",
    "    #data = x[1:]\n",
    "    layer_1 = sigmoid(np.dot(data, w1))\n",
    "    layer_2 = sigmoid(np.dot(layer_1, w2))\n",
    "    output = sigmoid(np.dot(layer_2, w3))\n",
    "    return output"
   ]
  },
  {
   "cell_type": "markdown",
   "metadata": {},
   "source": [
    "#### 정확도 계산"
   ]
  },
  {
   "cell_type": "code",
   "execution_count": 72,
   "metadata": {
    "collapsed": false
   },
   "outputs": [],
   "source": [
    "def print_accuracy():\n",
    "    count = 0\n",
    "    true = []\n",
    "    for i in range(len(test_data)):\n",
    "        data = np.asfarray(test_data[i].split(\",\"))\n",
    "        true.append(data[0])\n",
    "\n",
    "    true = np.asfarray(true)\n",
    "    \n",
    "    for i in range(len(test_data)):\n",
    "        pred = np.argmax(predict(test_data[i]))\n",
    "        if true[i] == pred :\n",
    "            count = count + 1\n",
    "    print('Accuracy : {0}%'.format(count/len(test_data)))\n",
    "\n"
   ]
  },
  {
   "cell_type": "code",
   "execution_count": 73,
   "metadata": {
    "collapsed": false
   },
   "outputs": [
    {
     "name": "stderr",
     "output_type": "stream",
     "text": [
      "C:\\Users\\good\\Anaconda3\\lib\\site-packages\\ipykernel\\__main__.py:2: RuntimeWarning: overflow encountered in exp\n",
      "  from ipykernel import kernelapp as app\n"
     ]
    },
    {
     "name": "stdout",
     "output_type": "stream",
     "text": [
      "Accuracy : 0.8432%\n"
     ]
    }
   ],
   "source": [
    "print_accuracy()"
   ]
  }
 ],
 "metadata": {
  "anaconda-cloud": {},
  "kernelspec": {
   "display_name": "Python [conda env:Anaconda3]",
   "language": "python",
   "name": "conda-env-Anaconda3-py"
  },
  "language_info": {
   "codemirror_mode": {
    "name": "ipython",
    "version": 3
   },
   "file_extension": ".py",
   "mimetype": "text/x-python",
   "name": "python",
   "nbconvert_exporter": "python",
   "pygments_lexer": "ipython3",
   "version": "3.5.4"
  }
 },
 "nbformat": 4,
 "nbformat_minor": 2
}
