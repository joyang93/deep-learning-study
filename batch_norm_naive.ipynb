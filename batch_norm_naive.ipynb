{
 "cells": [
  {
   "cell_type": "code",
   "execution_count": 1,
   "metadata": {},
   "outputs": [],
   "source": [
    "import numpy as np"
   ]
  },
  {
   "cell_type": "markdown",
   "metadata": {},
   "source": [
    "### implementing Batch Normalization"
   ]
  },
  {
   "cell_type": "code",
   "execution_count": 17,
   "metadata": {},
   "outputs": [],
   "source": [
    "def batchnorm_forward(x, gamma, beta):\n",
    "  N,D = x.shape\n",
    "  \n",
    "  # 평균\n",
    "  mu = 1/N * np.sum(x, axis = 0)\n",
    "  xmu = x - mu\n",
    "    \n",
    "  # 분산\n",
    "  sq = xmu ** 2\n",
    "  var = 1/N * np.sum(sq, axis = 0)\n",
    "  sqrt = np.sqrt(var)\n",
    "  ivar = 1/sqrtvar\n",
    "\n",
    "  # normalization\n",
    "  xhat = xmu * ivar\n",
    "\n",
    "  # yhat 계산\n",
    "  gamma_xhat = gamma * xhat\n",
    "  yhat = gamma_xhat + beta\n",
    "\n",
    "  # 파라미터 save\n",
    "  parameters = (xhat,gamma,xmu,ivar,sqrt,var)\n",
    "\n",
    "  return yhat, parameters"
   ]
  },
  {
   "cell_type": "code",
   "execution_count": 18,
   "metadata": {},
   "outputs": [],
   "source": [
    "def batchnorm_backward(out, parameters):\n",
    "\n",
    "  xhat,gamma,xmu,ivar,sqrt,var,eps = parameters\n",
    "\n",
    "  # dimensions of output\n",
    "  N,D = out.shape\n",
    "\n",
    "  # backpropagation\n",
    "  d_beta = np.sum(out, axis=0)\n",
    "\n",
    "  \n",
    "  d_gamma = np.sum(out*xhat, axis=0)\n",
    "  d_xhat = out * gamma\n",
    "\n",
    "  d_ivar = np.sum(d_xhat*xmu, axis=0)\n",
    "  d_xmu1 = d_xhat * ivar\n",
    "\n",
    "  d_sqrt = -1 /(sqrt**2) * d_ivar\n",
    "\n",
    "  d_var = 0.5 * (1 /np.sqrt(var)) * d_sqrt\n",
    "\n",
    "  d_sq = 1 /N * np.ones((N,D)) * d_var\n",
    "\n",
    "  d_xmu2 = 2 * xmu * d_sq\n",
    "\n",
    "  d_x1 = (d_xmu1 + d_xmu2)\n",
    "  d_mu = -1 * np.sum(d_xmu1 + d_xmu2, axis=0)\n",
    "\n",
    "  d_x2 = 1 / N * np.ones((N,D)) * d_mu\n",
    "  d_x = d_x1 + d_x2\n",
    "\n",
    "  return d_x, d_gamma, d_beta\n"
   ]
  }
 ],
 "metadata": {
  "anaconda-cloud": {},
  "kernelspec": {
   "display_name": "Python [conda env:Anaconda3]",
   "language": "python",
   "name": "conda-env-Anaconda3-py"
  },
  "language_info": {
   "codemirror_mode": {
    "name": "ipython",
    "version": 3
   },
   "file_extension": ".py",
   "mimetype": "text/x-python",
   "name": "python",
   "nbconvert_exporter": "python",
   "pygments_lexer": "ipython3",
   "version": "3.5.4"
  }
 },
 "nbformat": 4,
 "nbformat_minor": 1
}
