{
 "cells": [
  {
   "cell_type": "markdown",
   "metadata": {},
   "source": [
    "## Chapter2. 퍼셉트론 "
   ]
  },
  {
   "cell_type": "markdown",
   "metadata": {},
   "source": [
    "\n",
    "- 퍼셉트론 : 인공신경망이라고 알고있으면 된다.\n",
    "- 신호 : 흐른다/안흐른다 (1/0)\n",
    "\n",
    "![그림1](http://img1.daumcdn.net/thumb/R1920x0/?fname=http%3A%2F%2Fcfile1.uf.tistory.com%2Fimage%2F242BBA4C587240B216603F)\n",
    "\n",
    "\n"
   ]
  },
  {
   "cell_type": "markdown",
   "metadata": {},
   "source": [
    "### 2.1 퍼셉트론이란?   "
   ]
  },
  {
   "cell_type": "markdown",
   "metadata": {},
   "source": [
    "입력신호가 뉴런에보내질때 가중치가 곱해짐\n",
    "- w1x1 + w2x2\n",
    "- y = 0 if w1x1 + w2x2 < theta \n",
    "- = 1 if w1x1 + w2x2 > theta\n",
    "-  즉 가중치가 클수록 해당 신호가 더 중요함!  "
   ]
  },
  {
   "cell_type": "markdown",
   "metadata": {},
   "source": [
    "### 2.2 단순한 논리 회로\n",
    "- AND 게이트 입력이 둘이고 출력은 하나다\n",
    "- x1,2 가 모두 1일때만 1을 출력한다."
   ]
  },
  {
   "cell_type": "markdown",
   "metadata": {},
   "source": [
    "x1 | x2 | y\n",
    "--- | ---\n",
    "0  |   0  |   0\n",
    "1   |  0  |   0\n",
    "0   |  1  |   0\n",
    "1   |  1  |   1\n"
   ]
  },
  {
   "cell_type": "code",
   "execution_count": 11,
   "metadata": {},
   "outputs": [
    {
     "data": {
      "text/plain": [
       "(0, 0, 0, 1)"
      ]
     },
     "execution_count": 11,
     "metadata": {},
     "output_type": "execute_result"
    }
   ],
   "source": [
    "# 구현\n",
    "# w1,w2, theta 값을 지정해주고 tmp 변수 선언\n",
    "# tmp 와 theta 간 조건에 따라 함수 리턴값 0,1로 준다.\n",
    "def AND(x1, x2):\n",
    "    w1 , w2, theta = 0.5, 0.5 ,0.7\n",
    "    tmp  = x1*w1 + x2*w2\n",
    "    if tmp <= theta:\n",
    "        return 0\n",
    "    elif tmp > theta:\n",
    "        return 1\n",
    "# test\n",
    "AND(0, 0), AND(1, 0), AND(0, 1),AND(1, 1)"
   ]
  },
  {
   "cell_type": "code",
   "execution_count": null,
   "metadata": {
    "collapsed": true
   },
   "outputs": [],
   "source": [
    "# 가중치와 편향도입\n",
    "import numpy as np \n",
    "def AND (x1, x2):\n",
    "    x = np.array([x1, x2]) # x 열\n",
    "    w = np.array([0.5, 0.5])    # w 열\n",
    "    b = -0.7  # bias\n",
    "    tmp = np.sum(w*x) + b # 가중치와 편향을 고려한 합 \n",
    "    if tmp <=  0:  \n",
    "        return 0\n",
    "    else:\n",
    "        return 1\n",
    " "
   ]
  },
  {
   "cell_type": "markdown",
   "metadata": {},
   "source": [
    "NAND 게이트\n",
    "x1    x2    y\n",
    "0      0    1\n",
    "1      0    1\n",
    "0      1    1\n",
    "1      1    0\n",
    "x1,2 가 모두 1일때 0을 출력하고 이외에는 1을 출력"
   ]
  },
  {
   "cell_type": "markdown",
   "metadata": {},
   "source": [
    "OR 게이트\n",
    "x1    x2    y\n",
    "0     0     0\n",
    "1     0     1\n",
    "0     1      1\n",
    "1     1      1"
   ]
  },
  {
   "cell_type": "markdown",
   "metadata": {},
   "source": [
    "### 2.3 퍼셉트론 구현하기"
   ]
  },
  {
   "cell_type": "code",
   "execution_count": 15,
   "metadata": {},
   "outputs": [],
   "source": [
    "# 가중치와 편향도입\n",
    "import numpy as np \n",
    "def AND (x1, x2):\n",
    "    x = np.array([x1, x2]) # x 열\n",
    "    w = np.array([0.5, 0.5])    # w 열\n",
    "    b = -0.7  # bias\n",
    "    tmp = np.sum(w*x) + b # 가중치와 편향을 고려한 합 \n",
    "    if tmp <=  0:  \n",
    "        return 0\n",
    "    else:\n",
    "        return 1\n",
    " "
   ]
  },
  {
   "cell_type": "markdown",
   "metadata": {},
   "source": [
    "#### w , b, theta 모두 가중치로 불리기도 한다.   \n",
    "- 편향은 뉴런이 얼마나 쉽게 활성화(1로 출력)하느냐를 조절\n",
    "- w는 각 입력 신호가 결과에 주는 영향력을 조절하는 매개변수"
   ]
  },
  {
   "cell_type": "code",
   "execution_count": 16,
   "metadata": {
    "collapsed": true
   },
   "outputs": [],
   "source": [
    "\n",
    "def NAND (x1, x2):\n",
    "    x = np.array([x1, x2]) \n",
    "    w = np.array([-0.5, -0.5]) # AND와는 가중치(w,b)만 다른것     \n",
    "    b = 0.7  # bias\n",
    "    tmp = np.sum(w*x) + b # 가중치와 편향을 고려한 합 \n",
    "    if tmp <=  0:  \n",
    "        return 0\n",
    "    else:\n",
    "        return 1"
   ]
  },
  {
   "cell_type": "code",
   "execution_count": 17,
   "metadata": {
    "collapsed": true
   },
   "outputs": [],
   "source": [
    "\n",
    "def OR (x1, x2):\n",
    "    x = np.array([x1, x2]) # x 열\n",
    "    w = np.array([0.5, 0.5])    # w 열\n",
    "    b = -0.2  \n",
    "    tmp = np.sum(w*x) + b # 가중치와 편향을 고려한 합 \n",
    "    if tmp <=  0:  \n",
    "        return 0\n",
    "    else:\n",
    "        return 1\n",
    " "
   ]
  },
  {
   "cell_type": "markdown",
   "metadata": {},
   "source": [
    "###  2. 4 퍼셉트론의 한계"
   ]
  },
  {
   "cell_type": "markdown",
   "metadata": {},
   "source": [
    "#### XOR 게이트\n",
    "- x1과 x2 중 한쪽이 1일 때만 1을 출력 \n"
   ]
  },
  {
   "cell_type": "markdown",
   "metadata": {},
   "source": [
    "x1 | x2 | y\n",
    "--- | ---\n",
    "0 | 0 | 0\n",
    "1 | 0 | 1\n",
    "0 | 1 | 1\n",
    "1 | 1 | 0\n"
   ]
  },
  {
   "cell_type": "markdown",
   "metadata": {},
   "source": [
    "#### 선형분리 불가능 문제\n",
    "- 직선하나로는 XOR 게이트에서 선형분리가 불가능하다.(OR , AND 는 가능 ) -> 다층 퍼셉트론으로 해결"
   ]
  },
  {
   "cell_type": "markdown",
   "metadata": {},
   "source": [
    "- AND, NAND , OR 게이트 기호\n",
    "![그림2](http://www.cburch.com/logisim/docs/2.1.0/libs/images/basic.png)\n",
    "\n",
    "\n",
    "\n",
    "- AND, NAND, OR를 하나씩 조합해 XOR 게이트를 만든다.\n",
    "   -> 단층 퍼셉트론을 조합(층을 쌓아서) XOR 게이트를 구현한다."
   ]
  },
  {
   "cell_type": "markdown",
   "metadata": {},
   "source": [
    "x1 | x2 | s1 | s2 | y\n",
    "--- | ---\n",
    "0  | 0  | 1  |  0 | 0\n",
    "1  | 0  | 1  |  1 | 1\n",
    "0  | 1  | 1  |  1 | 1\n",
    "1  | 1  | 0  |  1 | 0\n",
    "\n",
    "NAND 의 출력 s1 OR의 출력 s2으로 한 진리표"
   ]
  },
  {
   "cell_type": "markdown",
   "metadata": {},
   "source": [
    "#### XOR 게이트 구현"
   ]
  },
  {
   "cell_type": "code",
   "execution_count": 27,
   "metadata": {},
   "outputs": [
    {
     "data": {
      "text/plain": [
       "(0, 1, 1, 0)"
      ]
     },
     "execution_count": 27,
     "metadata": {},
     "output_type": "execute_result"
    }
   ],
   "source": [
    "def XOR(x1, x2):\n",
    "    s1 = NAND(x1, x2) # s1 출력은 NAND함수를\n",
    "    s2 = OR(x1, x2)  # s2 출력은 OR 함수를 이용하겠다.\n",
    "    y = AND(s1, s2) # \n",
    "    return y\n",
    "XOR(0, 0),XOR(1, 0),XOR(0, 1),XOR(1, 1)"
   ]
  },
  {
   "cell_type": "markdown",
   "metadata": {},
   "source": [
    "\n",
    "![그림3](https://upload.wikimedia.org/wikipedia/commons/b/b2/Perceptron_XOR.jpg)\n",
    "- 빨강 : 0 층\n",
    "- 파랑 : 1층\n",
    "- 초록 : 2층\n",
    "1. 0층의 두 뉴련이 입력 신호를 받아 1층의 뉴련으로 신호를 보낸다.\n",
    "2. 1층의 뉴런이 2층의 뉴런으로 신호를 보내고, 2층의 뉴련은 이 입력 신호를 바탕으로 y를 출력한다. "
   ]
  },
  {
   "cell_type": "markdown",
   "metadata": {},
   "source": [
    "### 2장 정리\n",
    "- 퍼셉트론은 입출력을 갖춘 알고리즘\n",
    "- 퍼셉트론에서는 '가중치'와 '편향'을 매개변수로 사용한다\n",
    "- 퍼셉트론으로 AND , OR 게이트 등의 논리 회로를 표현할 수 있다.\n",
    "- XOR 게이트는 단층 퍼셉트론으론 표현 불가능, 2층 퍼셉트론이용\n",
    "- 다층 퍼셉트론은 비선형 영역도 표현가능하다.\n",
    "- 다층 퍼셉트론으로 컴퓨터도 표현"
   ]
  },
  {
   "cell_type": "code",
   "execution_count": null,
   "metadata": {
    "collapsed": true
   },
   "outputs": [],
   "source": []
  }
 ],
 "metadata": {
  "anaconda-cloud": {},
  "kernelspec": {
   "display_name": "Python [conda root]",
   "language": "python",
   "name": "conda-root-py"
  },
  "language_info": {
   "codemirror_mode": {
    "name": "ipython",
    "version": 3
   },
   "file_extension": ".py",
   "mimetype": "text/x-python",
   "name": "python",
   "nbconvert_exporter": "python",
   "pygments_lexer": "ipython3",
   "version": "3.5.4"
  }
 },
 "nbformat": 4,
 "nbformat_minor": 2
}
