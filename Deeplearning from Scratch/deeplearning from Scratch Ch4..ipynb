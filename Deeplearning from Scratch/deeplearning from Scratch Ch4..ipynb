{
 "cells": [
  {
   "cell_type": "markdown",
   "metadata": {},
   "source": [
    "## CHAPTER4. 신경망 학습"
   ]
  },
  {
   "cell_type": "markdown",
   "metadata": {},
   "source": [
    "#### 4.1 데이터에서 학습한다!"
   ]
  },
  {
   "cell_type": "markdown",
   "metadata": {},
   "source": [
    "- 기계학습  : 사람이 중요한 피쳐를 판단 -> 기계학습 알고리즘에 적용\n",
    "- 신경망 : 알아서 중요한거 뽑고 알아서 알고리즘\n",
    "- 범용성을 획득하는 것이 기계학습의 최종 목표\n",
    "- 편향된 트레인셋을 이용한 학습은 오버피팅 위험"
   ]
  },
  {
   "cell_type": "markdown",
   "metadata": {},
   "source": [
    "</br>\n",
    "#### 4.2 손실함수"
   ]
  },
  {
   "cell_type": "markdown",
   "metadata": {},
   "source": [
    "- 신경망 학습에서는 현재 상태를 '하나의 지표'로 표현\n",
    "- 그 지표를 가장 좋게 만들어 주는 가중치 매개변수의 값을 탐색하는 것\n",
    "- 그 지표를 손실함수(loss function) 이라 한다."
   ]
  },
  {
   "cell_type": "markdown",
   "metadata": {},
   "source": [
    "#### 평균 제곱 오차 (MSE)"
   ]
  },
  {
   "cell_type": "markdown",
   "metadata": {},
   "source": [
    "![그림1](http://postfiles10.naver.net/MjAxNzA2MTBfMjk3/MDAxNDk3MDc3MTMwOTQ2.GgGlorZevi3xnKcBFHqCrG6JKGaWMa-IvVv-927bzecg.8JF52k5hIgKhdEbkzcoo_yPW6Hac3WIucgThhTGvFnsg.JPEG.wideeyed/MSE_formula.jpg?type=w3)"
   ]
  },
  {
   "cell_type": "code",
   "execution_count": 2,
   "metadata": {},
   "outputs": [],
   "source": [
    "import numpy as np\n",
    "def mean_squared_error(y, t):\n",
    "    return 0.5 * np.sum((y-t)**2)"
   ]
  },
  {
   "cell_type": "code",
   "execution_count": 3,
   "metadata": {},
   "outputs": [
    {
     "data": {
      "text/plain": [
       "0.097500000000000031"
      ]
     },
     "execution_count": 3,
     "metadata": {},
     "output_type": "execute_result"
    }
   ],
   "source": [
    "# 정답이 3번째 칸에 있음 (한원소만 1로 하고 그 외 0 : 원-핫 인코딩)\n",
    "t  = [0,0,1,0,0,0,0,0,0,0]\n",
    "# 확률 추정값 3번째가 가장 정답이라고 추정함\n",
    "y = [0.1, 0.05, 0.6, 0.0 ,0.05, 0.1 , 0.0, 0.1, 0.0, 0.0]\n",
    "mean_squared_error(np.array(y) , np.array(t))\n",
    "# 실제로 MSE 가 낮게 잘 나온다."
   ]
  },
  {
   "cell_type": "markdown",
   "metadata": {},
   "source": [
    "#### 교차 엔트로피 오차"
   ]
  },
  {
   "cell_type": "markdown",
   "metadata": {},
   "source": [
    "![그림2](http://postfiles14.naver.net/MjAxNzA2MTBfMjI4/MDAxNDk3MDc3MTMwNzM1.3daOicpC7-jE5mdbBRO25T6rHZxlh5YhCB8-Q5YsrE4g.d_g_7KF-4pUsqaQuu1nh9j_4COwCH5_msdNdt3HEPTsg.JPEG.wideeyed/CEE_formula.jpg?type=w3)"
   ]
  },
  {
   "cell_type": "code",
   "execution_count": 4,
   "metadata": {},
   "outputs": [],
   "source": [
    "def cross_entropy_error(y, t):\n",
    "    delta = 1e-7\n",
    "    return -np.sum(t * np.log(y + delta))"
   ]
  },
  {
   "cell_type": "code",
   "execution_count": 5,
   "metadata": {},
   "outputs": [
    {
     "data": {
      "text/plain": [
       "0.51082545709933802"
      ]
     },
     "execution_count": 5,
     "metadata": {},
     "output_type": "execute_result"
    }
   ],
   "source": [
    "t  = [0,0,1,0,0,0,0,0,0,0]\n",
    "y = [0.1, 0.05, 0.6, 0.0 ,0.05, 0.1 , 0.0, 0.1, 0.0, 0.0]\n",
    "cross_entropy_error(np.array(y) , np.array(t))"
   ]
  },
  {
   "cell_type": "markdown",
   "metadata": {},
   "source": [
    "### 미니배치 학습"
   ]
  },
  {
   "cell_type": "markdown",
   "metadata": {},
   "source": [
    "- 훈련 데이터 모두에 대한 손실함수의 합을 구하는 것 필요!"
   ]
  },
  {
   "cell_type": "code",
   "execution_count": 6,
   "metadata": {
    "collapsed": true
   },
   "outputs": [],
   "source": [
    "from PIL import Image\n",
    "im = Image.open('deep_learning_images\\e 4.3.png')\n"
   ]
  },
  {
   "cell_type": "markdown",
   "metadata": {},
   "source": [
    "#### 훈련데이터 모두에 대한 교차엔트로피 식"
   ]
  },
  {
   "cell_type": "code",
   "execution_count": 7,
   "metadata": {},
   "outputs": [
    {
     "data": {
      "image/png": "[encoded data removed]",
      "text/plain": [
       "<PIL.PngImagePlugin.PngImageFile image mode=RGB size=496x116 at 0x1EDB5D50F28>"
      ]
     },
     "execution_count": 7,
     "metadata": {},
     "output_type": "execute_result"
    }
   ],
   "source": [
    "im"
   ]
  },
  {
   "cell_type": "markdown",
   "metadata": {},
   "source": [
    "- t(n,k) : n번째 데이터의 k번째 값 (정답)\n",
    "- y(n, k) : 신경망의 출력\n",
    "- 마지막에 N으로 나눠 정규화\n",
    "- 예를 들어 60000개 의 데이터중 1000를 무작위 뽑아 그것만으로 학습하는 것이 미니 배치 학습\n"
   ]
  },
  {
   "cell_type": "markdown",
   "metadata": {},
   "source": [
    "#### 훈련데이터에서 무작위로 지정한수의 데이터를 골라내자."
   ]
  },
  {
   "cell_type": "code",
   "execution_count": 8,
   "metadata": {},
   "outputs": [
    {
     "name": "stdout",
     "output_type": "stream",
     "text": [
      "Converting train-images-idx3-ubyte.gz to NumPy Array ...\n",
      "Done\n",
      "Converting train-labels-idx1-ubyte.gz to NumPy Array ...\n",
      "Done\n",
      "Converting t10k-images-idx3-ubyte.gz to NumPy Array ...\n",
      "Done\n",
      "Converting t10k-labels-idx1-ubyte.gz to NumPy Array ...\n",
      "Done\n",
      "Creating pickle file ...\n",
      "Done!\n"
     ]
    }
   ],
   "source": [
    "# coding: utf-8\n",
    "try:\n",
    "    import urllib.request\n",
    "except ImportError:\n",
    "    raise ImportError('You should use Python 3.x')\n",
    "import os.path\n",
    "import gzip\n",
    "import pickle\n",
    "import os\n",
    "import numpy as np\n",
    "\n",
    "\n",
    "url_base = 'http://yann.lecun.com/exdb/mnist/'\n",
    "key_file = {\n",
    "    'train_img':'train-images-idx3-ubyte.gz',\n",
    "    'train_label':'train-labels-idx1-ubyte.gz',\n",
    "    'test_img':'t10k-images-idx3-ubyte.gz',\n",
    "    'test_label':'t10k-labels-idx1-ubyte.gz'\n",
    "}\n",
    "\n",
    "dataset_dir = os.path.dirname(os.path.abspath('__file__'))\n",
    "save_file = dataset_dir + \"/mnist.pkl\"\n",
    "\n",
    "train_num = 60000\n",
    "test_num = 10000\n",
    "img_dim = (1, 28, 28)\n",
    "img_size = 784\n",
    "\n",
    "\n",
    "def _download(file_name):\n",
    "    file_path = dataset_dir + \"/\" + file_name\n",
    "    \n",
    "    if os.path.exists(file_path):\n",
    "        return\n",
    "\n",
    "    print(\"Downloading \" + file_name + \" ... \")\n",
    "    urllib.request.urlretrieve(url_base + file_name, file_path)\n",
    "    print(\"Done\")\n",
    "    \n",
    "def download_mnist():\n",
    "    for v in key_file.values():\n",
    "       _download(v)\n",
    "        \n",
    "def _load_label(file_name):\n",
    "    file_path = dataset_dir + \"/\" + file_name\n",
    "    \n",
    "    print(\"Converting \" + file_name + \" to NumPy Array ...\")\n",
    "    with gzip.open(file_path, 'rb') as f:\n",
    "            labels = np.frombuffer(f.read(), np.uint8, offset=8)\n",
    "    print(\"Done\")\n",
    "    \n",
    "    return labels\n",
    "\n",
    "def _load_img(file_name):\n",
    "    file_path = dataset_dir + \"/\" + file_name\n",
    "    \n",
    "    print(\"Converting \" + file_name + \" to NumPy Array ...\")    \n",
    "    with gzip.open(file_path, 'rb') as f:\n",
    "            data = np.frombuffer(f.read(), np.uint8, offset=16)\n",
    "    data = data.reshape(-1, img_size)\n",
    "    print(\"Done\")\n",
    "    \n",
    "    return data\n",
    "    \n",
    "def _convert_numpy():\n",
    "    dataset = {}\n",
    "    dataset['train_img'] =  _load_img(key_file['train_img'])\n",
    "    dataset['train_label'] = _load_label(key_file['train_label'])    \n",
    "    dataset['test_img'] = _load_img(key_file['test_img'])\n",
    "    dataset['test_label'] = _load_label(key_file['test_label'])\n",
    "    \n",
    "    return dataset\n",
    "\n",
    "def init_mnist():\n",
    "    download_mnist()\n",
    "    dataset = _convert_numpy()\n",
    "    print(\"Creating pickle file ...\")\n",
    "    with open(save_file, 'wb') as f:\n",
    "        pickle.dump(dataset, f, -1)\n",
    "    print(\"Done!\")\n",
    "\n",
    "def _change_ont_hot_label(X):\n",
    "    T = np.zeros((X.size, 10))\n",
    "    for idx, row in enumerate(T):\n",
    "        row[X[idx]] = 1\n",
    "        \n",
    "    return T\n",
    "    \n",
    "\n",
    "def load_mnist(normalize=True, flatten=True, one_hot_label=False):\n",
    "    \"\"\"MNIST 데이터셋 읽기\n",
    "    \n",
    "    Parameters\n",
    "    ----------\n",
    "    normalize : 이미지의 픽셀 값을 0.0~1.0 사이의 값으로 정규화할지 정한다.\n",
    "    one_hot_label : \n",
    "        one_hot_label이 True면、레이블을 원-핫(one-hot) 배열로 돌려준다.\n",
    "        one-hot 배열은 예를 들어 [0,0,1,0,0,0,0,0,0,0]처럼 한 원소만 1인 배열이다.\n",
    "    flatten : 입력 이미지를 1차원 배열로 만들지를 정한다. \n",
    "    \n",
    "    Returns\n",
    "    -------\n",
    "    (훈련 이미지, 훈련 레이블), (시험 이미지, 시험 레이블)\n",
    "    \"\"\"\n",
    "    if not os.path.exists(save_file):\n",
    "        init_mnist()\n",
    "        \n",
    "    with open(save_file, 'rb') as f:\n",
    "        dataset = pickle.load(f)\n",
    "    \n",
    "    if normalize:\n",
    "        for key in ('train_img', 'test_img'):\n",
    "            dataset[key] = dataset[key].astype(np.float32)\n",
    "            dataset[key] /= 255.0\n",
    "            \n",
    "    if one_hot_label:\n",
    "        dataset['train_label'] = _change_ont_hot_label(dataset['train_label'])\n",
    "        dataset['test_label'] = _change_ont_hot_label(dataset['test_label'])    \n",
    "    \n",
    "    if not flatten:\n",
    "         for key in ('train_img', 'test_img'):\n",
    "            dataset[key] = dataset[key].reshape(-1, 1, 28, 28)\n",
    "\n",
    "    return (dataset['train_img'], dataset['train_label']), (dataset['test_img'], dataset['test_label']) \n",
    "\n",
    "\n",
    "if __name__ == '__main__':\n",
    "    init_mnist()"
   ]
  },
  {
   "cell_type": "code",
   "execution_count": 9,
   "metadata": {},
   "outputs": [],
   "source": [
    "(x_train, t_train),(x_test, t_test) = load_mnist(normalize = True , one_hot_label=True)"
   ]
  },
  {
   "cell_type": "code",
   "execution_count": 10,
   "metadata": {},
   "outputs": [
    {
     "name": "stdout",
     "output_type": "stream",
     "text": [
      "(60000, 784)\n",
      "(60000, 10)\n"
     ]
    }
   ],
   "source": [
    "print(x_train.shape)\n",
    "print(t_train.shape)"
   ]
  },
  {
   "cell_type": "markdown",
   "metadata": {},
   "source": [
    "#### 불러온 데이터에서 무작위로 10장을 빼내자"
   ]
  },
  {
   "cell_type": "code",
   "execution_count": 11,
   "metadata": {},
   "outputs": [],
   "source": [
    "train_size = x_train.shape[0]\n",
    "batch_size =  10\n",
    "batch_mask =  np.random.choice(train_size , batch_size)  # 지정한 범위의 수중 무작위로 원하는 개수만큼 추출하는 함수\n",
    "x_batch = x_train[batch_mask]\n",
    "t_batch = t_train[batch_mask]"
   ]
  },
  {
   "cell_type": "code",
   "execution_count": 12,
   "metadata": {},
   "outputs": [
    {
     "data": {
      "text/plain": [
       "array([ 3460, 13762, 53887, 37366, 30759, 51423, 40483, 48473, 10072, 51952])"
      ]
     },
     "execution_count": 12,
     "metadata": {},
     "output_type": "execute_result"
    }
   ],
   "source": [
    "np.random.choice(60000, 10)"
   ]
  },
  {
   "cell_type": "markdown",
   "metadata": {},
   "source": [
    "#### 배치용 교차 엔트로피 오차 구현하기"
   ]
  },
  {
   "cell_type": "code",
   "execution_count": 13,
   "metadata": {},
   "outputs": [],
   "source": [
    "def cross_entopy_error(y, t):\n",
    "    if y.ndim == 1:   # y는 신경망의 출력인데 1차원이라면 \n",
    "        t = t.reshape(1, t.size)\n",
    "        y = y.reshape(1, y.size)\n",
    "        \n",
    "    batch_size = y.shape[0]\n",
    "    return - np.sum(t*np.log(y)) / batch_size"
   ]
  },
  {
   "cell_type": "markdown",
   "metadata": {},
   "source": [
    "#### 손실함수를 설정하는 이유\n",
    "- 미분 값이 음수면 가중치 매개변수를 양의 방향으로 변화시켜 손실 함수 값을 줄임\n",
    "- 미분 값이 양수면 가중치 매개병수를 음의 방향으로 변화시켜 손실 함수 값을 올림\n",
    "- 신경망 학습 지표로 정확도를 삼으면 안되는 이유 매개변수 미분이 대부분에서 0이 되기 때문\n",
    "- 계단 함수를 활성함수로 사용하지 않은 이유와도 상통함\n",
    "- 매개변수의 작은 변화가 주는 파장을 캐치하지 못함"
   ]
  },
  {
   "cell_type": "markdown",
   "metadata": {},
   "source": [
    "### 4.3 수치 미분"
   ]
  },
  {
   "cell_type": "code",
   "execution_count": 14,
   "metadata": {
    "collapsed": true
   },
   "outputs": [],
   "source": [
    "# 미분\n",
    "def numerical_diff(f, x):\n",
    "    h = 10e-50\n",
    "    return (f(x+h)-f(x)) / h"
   ]
  },
  {
   "cell_type": "markdown",
   "metadata": {},
   "source": [
    "- 1e-50 이 0.0 가 되어 (32비트 부동소수점) 반올림 오차 발생 ->  1e-4 으로 사용한다(더 좋다고 알려짐)\n",
    "- h을 무한히 0으로 보낼수는 없다는 것에서 발생하는 오차 -> x 를 중심으로 전후의 차분을 계산하여 보정 (중심 차분)\n",
    "- 미분이라 기보다는 엄밀히는 근사 접선임"
   ]
  },
  {
   "cell_type": "code",
   "execution_count": 15,
   "metadata": {
    "collapsed": true
   },
   "outputs": [],
   "source": [
    "# 두 포인트를 개선 한것\n",
    "def numerical_diff(f, x):\n",
    "    h = 1e-4\n",
    "    return (f(x+h) - f(x-h)) / (2*h)"
   ]
  },
  {
   "cell_type": "markdown",
   "metadata": {},
   "source": [
    "#### 편미분"
   ]
  },
  {
   "cell_type": "code",
   "execution_count": 16,
   "metadata": {
    "collapsed": true
   },
   "outputs": [],
   "source": [
    "def function_2(x):\n",
    "    return x[0]**2 + x[1]**2\n",
    "# 인수들의 제곱합을 계산하는 함수"
   ]
  },
  {
   "cell_type": "code",
   "execution_count": 17,
   "metadata": {},
   "outputs": [
    {
     "data": {
      "text/plain": [
       "6.00000000000378"
      ]
     },
     "execution_count": 17,
     "metadata": {},
     "output_type": "execute_result"
    }
   ],
   "source": [
    "# x0 = 3 , x1 = 4 일때 x0에 대한 편미분을 구하라\n",
    "def function_tmp1(x0):\n",
    "    return x0*x0 + 4.0*2.0\n",
    "numerical_diff(function_tmp1 , 3.0)"
   ]
  },
  {
   "cell_type": "markdown",
   "metadata": {},
   "source": [
    "### 4.4 기울기(gradient)"
   ]
  },
  {
   "cell_type": "markdown",
   "metadata": {},
   "source": [
    "- 모든 변수의 편미분을 벡터로 정리한것"
   ]
  },
  {
   "cell_type": "code",
   "execution_count": 18,
   "metadata": {
    "collapsed": true
   },
   "outputs": [],
   "source": [
    "def numerical_gradient(f, x):   # f는 함수 x 는 넘파이 배열 즉 넘파이 배열 각원소에 대해서 수치 미분을 구한다. \n",
    "    h = 1e-4 \n",
    "    grad = np.zeros_like(x) # x와 형상이 같은 배열을 생성\n",
    "    \n",
    "    for idx in range(x.size):\n",
    "        tmp_val = x[idx]\n",
    "        \n",
    "        # f(x-h) 계산\n",
    "        x[idx] = tmp_val + h\n",
    "        fxh1 = f(x)\n",
    "        \n",
    "        # f(x-h) 계산\n",
    "        x[idx] = tmp_val - h\n",
    "        fxh2 = f(x)\n",
    "        \n",
    "        grad[idx] =  (fxh1 - fxh2) /  (2*h)\n",
    "        x[idx] = tmp_val # 값 복원 \n",
    "    return grad\n",
    "        "
   ]
  },
  {
   "cell_type": "code",
   "execution_count": 19,
   "metadata": {
    "scrolled": true
   },
   "outputs": [
    {
     "data": {
      "text/plain": [
       "array([ 6.,  8.])"
      ]
     },
     "execution_count": 19,
     "metadata": {},
     "output_type": "execute_result"
    }
   ],
   "source": [
    "# test\n",
    "numerical_gradient(function_2, np.array([3.0, 4.0]))"
   ]
  },
  {
   "cell_type": "markdown",
   "metadata": {},
   "source": [
    "#### 기울기 의미 파악하기"
   ]
  },
  {
   "cell_type": "code",
   "execution_count": 20,
   "metadata": {},
   "outputs": [
    {
     "name": "stderr",
     "output_type": "stream",
     "text": [
      "C:\\Users\\good\\Anaconda3\\lib\\site-packages\\matplotlib\\axes\\_axes.py:545: UserWarning: No labelled objects found. Use label='...' kwarg on individual plots.\n",
      "  warnings.warn(\"No labelled objects found. \"\n"
     ]
    },
    {
     "data": {
      "image/png": "[encoded data removed]",
      "text/plain": [
       "<matplotlib.figure.Figure at 0x1edb5f58358>"
      ]
     },
     "metadata": {},
     "output_type": "display_data"
    }
   ],
   "source": [
    "# coding: utf-8\n",
    "# cf.http://d.hatena.ne.jp/white_wheels/20100327/p3\n",
    "import numpy as np\n",
    "import matplotlib.pylab as plt\n",
    "from mpl_toolkits.mplot3d import Axes3D\n",
    "\n",
    "\n",
    "def _numerical_gradient_no_batch(f, x):\n",
    "    h = 1e-4 # 0.0001\n",
    "    grad = np.zeros_like(x) # x와 형상이 같은 배열을 생성\n",
    "    \n",
    "    for idx in range(x.size):\n",
    "        tmp_val = x[idx]\n",
    "        \n",
    "        # f(x+h) 계산\n",
    "        x[idx] = float(tmp_val) + h\n",
    "        fxh1 = f(x)\n",
    "        \n",
    "        # f(x-h) 계산\n",
    "        x[idx] = tmp_val - h \n",
    "        fxh2 = f(x) \n",
    "        \n",
    "        grad[idx] = (fxh1 - fxh2) / (2*h)\n",
    "        x[idx] = tmp_val # 값 복원\n",
    "        \n",
    "    return grad\n",
    "\n",
    "\n",
    "def numerical_gradient(f, X):\n",
    "    if X.ndim == 1:\n",
    "        return _numerical_gradient_no_batch(f, X)\n",
    "    else:\n",
    "        grad = np.zeros_like(X)\n",
    "        \n",
    "        for idx, x in enumerate(X):\n",
    "            grad[idx] = _numerical_gradient_no_batch(f, x)\n",
    "        \n",
    "        return grad\n",
    "\n",
    "\n",
    "def function_2(x):\n",
    "    if x.ndim == 1:\n",
    "        return np.sum(x**2)\n",
    "    else:\n",
    "        return np.sum(x**2, axis=1)\n",
    "\n",
    "\n",
    "def tangent_line(f, x):\n",
    "    d = numerical_gradient(f, x)\n",
    "    print(d)\n",
    "    y = f(x) - d*x\n",
    "    return lambda t: d*t + y\n",
    "     \n",
    "if __name__ == '__main__':\n",
    "    x0 = np.arange(-2, 2.5, 0.25)\n",
    "    x1 = np.arange(-2, 2.5, 0.25)\n",
    "    X, Y = np.meshgrid(x0, x1)\n",
    "    \n",
    "    X = X.flatten()\n",
    "    Y = Y.flatten()\n",
    "    \n",
    "    grad = numerical_gradient(function_2, np.array([X, Y]) )\n",
    "    \n",
    "    plt.figure()\n",
    "    plt.quiver(X, Y, -grad[0], -grad[1],  angles=\"xy\",color=\"#666666\")#,headwidth=10,scale=40,color=\"#444444\")\n",
    "    plt.xlim([-2, 2])\n",
    "    plt.ylim([-2, 2])\n",
    "    plt.xlabel('x0')\n",
    "    plt.ylabel('x1')\n",
    "    plt.grid()\n",
    "    plt.legend()\n",
    "    plt.draw()\n",
    "    plt.show()"
   ]
  },
  {
   "cell_type": "markdown",
   "metadata": {},
   "source": [
    "- 그림에서 기울기는 방향을 가진 벡터(화살표)로 표현\n",
    "- 가장 낮은 장소를 가리키는 것(정확히는 각 지점에서 낮아지는 방향)\n",
    "- 기울기가 가리키는 방향은 각 장소에서 함수의 출력 값을 가장 크게 줄이는 방향!"
   ]
  },
  {
   "cell_type": "markdown",
   "metadata": {},
   "source": [
    "####  "
   ]
  },
  {
   "cell_type": "markdown",
   "metadata": {},
   "source": [
    "#### 경사 하강법"
   ]
  },
  {
   "cell_type": "markdown",
   "metadata": {},
   "source": [
    "- 기울기를 이용해 함수의 최솟값을 찾으려는 것\n",
    "- 꼭 기울어진 방향이 최솟값이라는 보장은 X 그냥 안장점일 수가 있다"
   ]
  },
  {
   "cell_type": "code",
   "execution_count": 21,
   "metadata": {},
   "outputs": [
    {
     "data": {
      "image/png": "[encoded data removed]",
      "text/plain": [
       "<PIL.PngImagePlugin.PngImageFile image mode=RGB size=306x234 at 0x1EDB5E94128>"
      ]
     },
     "execution_count": 21,
     "metadata": {},
     "output_type": "execute_result"
    }
   ],
   "source": [
    "im2 = Image.open('deep_learning_images\\e 4.7.png')\n",
    "im2"
   ]
  },
  {
   "cell_type": "markdown",
   "metadata": {},
   "source": [
    "- 경사법을 수식으로 나타낸 것\n",
    "- 에타는 갱신하는 양(학습률) learning_rate\n",
    "- 위식은 1회에 해당하는 갱신이고 이 단계를 반복하는 것"
   ]
  },
  {
   "cell_type": "markdown",
   "metadata": {},
   "source": [
    "#### 구현"
   ]
  },
  {
   "cell_type": "code",
   "execution_count": 22,
   "metadata": {
    "collapsed": true
   },
   "outputs": [],
   "source": [
    "def gradient_descent( f , init_x , lr = 0.01, step_num = 100):\n",
    "    x = init_x   # 초기값, 학습률, 경사법에 따른 반복 횟수 \n",
    "    \n",
    "    for i in range(step_num):\n",
    "        grad = numerical_gradient(f, x) # 함수의 기울기를 만들어놓은  numerical_gradient 함수로 구하고 \n",
    "        x -= lr*grad                    # 거기다 학습률을 곱해 step_num 번 갱신해라 \n",
    "    return x"
   ]
  },
  {
   "cell_type": "code",
   "execution_count": 23,
   "metadata": {},
   "outputs": [
    {
     "data": {
      "text/plain": [
       "array([ -2.58983747e+13,  -1.29524862e+12])"
      ]
     },
     "execution_count": 23,
     "metadata": {},
     "output_type": "execute_result"
    }
   ],
   "source": [
    "# test\n",
    "# 1. 학습률을 너무 크게했을때 너무 큰값으로 발산해버린다.\n",
    "init_x = np.array([-3.0, 4.0])\n",
    "gradient_descent(function_2, init_x = init_x , lr = 10.0 , step_num = 100)"
   ]
  },
  {
   "cell_type": "code",
   "execution_count": 24,
   "metadata": {
    "scrolled": true
   },
   "outputs": [
    {
     "data": {
      "text/plain": [
       "array([-2.99999994,  3.99999992])"
      ]
     },
     "execution_count": 24,
     "metadata": {},
     "output_type": "execute_result"
    }
   ],
   "source": [
    "# test\n",
    "# 2. 학습률을 너무 작게했을때 변화가 거의 없다.\n",
    "init_x = np.array([-3.0, 4.0])\n",
    "gradient_descent(function_2, init_x = init_x , lr = 1e-10 , step_num = 100)"
   ]
  },
  {
   "cell_type": "markdown",
   "metadata": {},
   "source": [
    "####   "
   ]
  },
  {
   "cell_type": "markdown",
   "metadata": {},
   "source": [
    "#### 신경망에서의  기울기 "
   ]
  },
  {
   "cell_type": "code",
   "execution_count": 25,
   "metadata": {
    "scrolled": true
   },
   "outputs": [
    {
     "data": {
      "image/png": "[encoded data removed]",
      "text/plain": [
       "<PIL.PngImagePlugin.PngImageFile image mode=RGB size=430x274 at 0x1EDB5E49EF0>"
      ]
     },
     "execution_count": 25,
     "metadata": {},
     "output_type": "execute_result"
    }
   ],
   "source": [
    "im2 = Image.open('deep_learning_images\\e 4.8.png')\n",
    "im2"
   ]
  },
  {
   "cell_type": "markdown",
   "metadata": {},
   "source": [
    "- 기울기란 가중치 매개변수에 대한 손실 함수의 기울기\n",
    "- 위 식에서 1행 1번째 원소는 w11를 조금 변화시켰을때 L이 얼마나 변하냐"
   ]
  },
  {
   "cell_type": "markdown",
   "metadata": {},
   "source": [
    "### 구현"
   ]
  },
  {
   "cell_type": "code",
   "execution_count": 30,
   "metadata": {},
   "outputs": [
    {
     "name": "stdout",
     "output_type": "stream",
     "text": [
      "[[ 0.54829954  0.01134594 -0.55964548]\n",
      " [ 0.82244931  0.01701891 -0.83946822]]\n"
     ]
    }
   ],
   "source": [
    "# coding: utf-8\n",
    "import sys, os\n",
    "sys.path.append(os.pardir)  # 부모 디렉터리의 파일을 가져올 수 있도록 설정\n",
    "import numpy as np\n",
    "from common.functions import softmax, cross_entropy_error\n",
    "from common.gradient import numerical_gradient\n",
    "\n",
    "\n",
    "class simpleNet:\n",
    "    def __init__(self):\n",
    "        self.W = np.random.randn(2,3) # 정규분포로 초기화\n",
    "\n",
    "    def predict(self, x):\n",
    "        return np.dot(x, self.W)\n",
    "\n",
    "    def loss(self, x, t):\n",
    "        z = self.predict(x)\n",
    "        y = softmax(z)\n",
    "        loss = cross_entropy_error(y, t)\n",
    "\n",
    "        return loss\n",
    "\n",
    "x = np.array([0.6, 0.9])\n",
    "t = np.array([0, 0, 1])\n",
    "\n",
    "net = simpleNet()\n",
    "\n",
    "f = lambda w: net.loss(x, t)\n",
    "dW = numerical_gradient(f, net.W)\n",
    "\n",
    "print(dW)\n"
   ]
  },
  {
   "cell_type": "markdown",
   "metadata": {},
   "source": [
    "####   "
   ]
  },
  {
   "cell_type": "markdown",
   "metadata": {},
   "source": [
    "### 4.5 학습 알고리즘 구현하기"
   ]
  },
  {
   "cell_type": "markdown",
   "metadata": {},
   "source": [
    "#### 복습\n",
    "- 전제 : 신경망에는 가중치와 편향이 존재 이것을 훈련 데이터에 적응하도록 조정하는 과정을 '학습'이라 함\n",
    "- 1단계 - 미니 배치 : 훈련 데이터 중 일부 무작위 가져온다.\n",
    "- 2단계 - 기울기 산출 : 미니배치의 손실함수값을 줄이기 위해 각 가중치 매개변수 기울기 구한다. 기울기는 손실함수 값을 가장 작게하는 방향 제시\n",
    "- 3단계 - 매개변수 갱신 : 가중치 매개변수를 기울기 방향으로 조금씩 갱신\n",
    "- 4단계 - 반복 : 1~3단계 반복"
   ]
  },
  {
   "cell_type": "markdown",
   "metadata": {},
   "source": [
    "####    "
   ]
  },
  {
   "cell_type": "markdown",
   "metadata": {},
   "source": [
    "#### 2층 신경망 클래스 구현하기"
   ]
  },
  {
   "cell_type": "code",
   "execution_count": 38,
   "metadata": {},
   "outputs": [],
   "source": [
    "# coding: utf-8\n",
    "import sys, os\n",
    "sys.path.append(os.pardir)  # 부모 디렉터리의 파일을 가져올 수 있도록 설정\n",
    "from common.functions import *\n",
    "from common.gradient import numerical_gradient\n",
    "\n",
    "\n",
    "class TwoLayerNet:\n",
    "\n",
    "    def __init__(self, input_size, hidden_size, output_size, weight_init_std=0.01):\n",
    "        # 가중치 초기화\n",
    "        self.params = {}      # 신경망 매개변수 보관하는 딕셔너리 W1 은 첫번째 층 가중치 W2 는 2번째 층의 가중치 b1, b2는 편향 \n",
    "        self.params['W1'] = weight_init_std * np.random.randn(input_size, hidden_size)\n",
    "        self.params['b1'] = np.zeros(hidden_size)\n",
    "        self.params['W2'] = weight_init_std * np.random.randn(hidden_size, output_size)\n",
    "        self.params['b2'] = np.zeros(output_size)\n",
    "    \n",
    "    # 예측 수행 메서드\n",
    "    def predict(self, x):\n",
    "        W1, W2 = self.params['W1'], self.params['W2']\n",
    "        b1, b2 = self.params['b1'], self.params['b2']\n",
    "    \n",
    "        a1 = np.dot(x, W1) + b1\n",
    "        z1 = sigmoid(a1)\n",
    "        a2 = np.dot(z1, W2) + b2\n",
    "        y = softmax(a2)\n",
    "        \n",
    "        return y\n",
    "    \n",
    "    # 손실함수 구하는 메소드 \n",
    "    # x : 입력 데이터, t : 정답 레이블\n",
    "    def loss(self, x, t):\n",
    "        y = self.predict(x)\n",
    "        \n",
    "        return cross_entropy_error(y, t)\n",
    "    \n",
    "    # 정확도 계산\n",
    "    def accuracy(self, x, t):\n",
    "        y = self.predict(x)\n",
    "        y = np.argmax(y, axis=1)\n",
    "        t = np.argmax(t, axis=1)\n",
    "        \n",
    "        accuracy = np.sum(y == t) / float(x.shape[0])\n",
    "        return accuracy\n",
    "    \n",
    "    # 가중치 매개변수 기울기 구하기 \n",
    "    # x : 입력 데이터, t : 정답 레이블\n",
    "    def numerical_gradient(self, x, t):\n",
    "        loss_W = lambda W: self.loss(x, t)\n",
    "        \n",
    "        grads = {}      # 기울기 보관하는 딕셔너리 변수 \n",
    "        grads['W1'] = numerical_gradient(loss_W, self.params['W1'])\n",
    "        grads['b1'] = numerical_gradient(loss_W, self.params['b1'])\n",
    "        grads['W2'] = numerical_gradient(loss_W, self.params['W2'])\n",
    "        grads['b2'] = numerical_gradient(loss_W, self.params['b2'])\n",
    "        \n",
    "        return grads\n"
   ]
  },
  {
   "cell_type": "markdown",
   "metadata": {},
   "source": [
    "- TwoLayerNet 클래스는 딕셔너리인 params와 grads 를 인스턴스로 갖는다.\n",
    "- params 변수에는 가중치 매개변수가 저장 \n",
    "- 예를들어 1번째 층의 가중치 매개변수는 params['W1'] 키에 넘파이 배열로 저장 "
   ]
  },
  {
   "cell_type": "code",
   "execution_count": 39,
   "metadata": {},
   "outputs": [
    {
     "data": {
      "text/plain": [
       "((784, 100), (100,), (100, 10), (10,))"
      ]
     },
     "execution_count": 39,
     "metadata": {},
     "output_type": "execute_result"
    }
   ],
   "source": [
    "# test\n",
    "net = TwoLayerNet(input_size = 784 , hidden_size = 100, output_size = 10 )\n",
    "net.params['W1'].shape,net.params['b1'].shape , net.params['W2'].shape ,net.params['b2'].shape  # 신경망에 필요한 매개변수 저장"
   ]
  },
  {
   "cell_type": "code",
   "execution_count": 41,
   "metadata": {},
   "outputs": [
    {
     "data": {
      "text/plain": [
       "array([[ 0.09247553,  0.10562164,  0.10079935,  0.10239648,  0.09286803,\n",
       "         0.09903758,  0.10351773,  0.09637141,  0.10482581,  0.10208644],\n",
       "       [ 0.09255937,  0.10578246,  0.10055651,  0.10244628,  0.09294363,\n",
       "         0.09937571,  0.10330597,  0.09626492,  0.10465422,  0.10211094],\n",
       "       [ 0.09253171,  0.10604455,  0.10087274,  0.1022543 ,  0.09289294,\n",
       "         0.0986424 ,  0.10352861,  0.09630662,  0.10479546,  0.10213067],\n",
       "       [ 0.09277923,  0.10569384,  0.10086944,  0.10242774,  0.09301863,\n",
       "         0.09890268,  0.10344588,  0.09650919,  0.10450572,  0.10184764],\n",
       "       [ 0.09229251,  0.1055914 ,  0.10078025,  0.10210386,  0.09290441,\n",
       "         0.09903283,  0.10347163,  0.09651618,  0.10504722,  0.10225972],\n",
       "       [ 0.09262086,  0.10575294,  0.1008097 ,  0.10217171,  0.09274035,\n",
       "         0.09927318,  0.10346926,  0.09617154,  0.1049819 ,  0.10200857],\n",
       "       [ 0.09257593,  0.10574916,  0.10075091,  0.10253107,  0.0929131 ,\n",
       "         0.09921362,  0.10320001,  0.09650566,  0.10454337,  0.10201716],\n",
       "       [ 0.09266458,  0.10570328,  0.1009801 ,  0.10231925,  0.09262289,\n",
       "         0.0996443 ,  0.10309454,  0.09617939,  0.10502002,  0.10177164],\n",
       "       [ 0.0925953 ,  0.10580281,  0.10049329,  0.10242363,  0.09274264,\n",
       "         0.09925768,  0.10311288,  0.09653256,  0.10457907,  0.10246014],\n",
       "       [ 0.0926316 ,  0.10572279,  0.1007269 ,  0.10248215,  0.09242639,\n",
       "         0.0991051 ,  0.10360826,  0.09630934,  0.10497088,  0.1020166 ],\n",
       "       [ 0.09245512,  0.10570613,  0.10048529,  0.10232452,  0.09305234,\n",
       "         0.09927424,  0.10327925,  0.09657915,  0.10481367,  0.10203029],\n",
       "       [ 0.09211253,  0.10594379,  0.10071128,  0.10199816,  0.09280963,\n",
       "         0.09917316,  0.10342459,  0.0965732 ,  0.10503051,  0.10222316],\n",
       "       [ 0.09264002,  0.10567419,  0.10050076,  0.10240209,  0.09286385,\n",
       "         0.0992049 ,  0.10358939,  0.09638925,  0.1046491 ,  0.10208644],\n",
       "       [ 0.09249239,  0.1060817 ,  0.10081226,  0.10235179,  0.09314566,\n",
       "         0.09915003,  0.10322169,  0.09645849,  0.10444618,  0.10183981],\n",
       "       [ 0.09273888,  0.10549552,  0.10067122,  0.10251212,  0.09250926,\n",
       "         0.09901213,  0.10335796,  0.0965324 ,  0.10496843,  0.10220208],\n",
       "       [ 0.0925573 ,  0.10570058,  0.10067702,  0.10239511,  0.09309483,\n",
       "         0.09914885,  0.10348927,  0.09610751,  0.10485205,  0.10197748],\n",
       "       [ 0.09265167,  0.10566385,  0.10104115,  0.10198385,  0.09280135,\n",
       "         0.09915189,  0.10340396,  0.09670675,  0.10491761,  0.10167791],\n",
       "       [ 0.09234873,  0.10578081,  0.10061543,  0.10269036,  0.09301514,\n",
       "         0.09880491,  0.10340198,  0.09656128,  0.10487843,  0.10190294],\n",
       "       [ 0.09267606,  0.10558666,  0.10048472,  0.10223583,  0.09330528,\n",
       "         0.09919725,  0.10346409,  0.09627873,  0.10511989,  0.10165149],\n",
       "       [ 0.09247697,  0.10574565,  0.10067897,  0.10231652,  0.09272727,\n",
       "         0.09935019,  0.10347402,  0.09645246,  0.10505836,  0.1017196 ],\n",
       "       [ 0.09254139,  0.10559326,  0.10021889,  0.10210334,  0.09296347,\n",
       "         0.09937291,  0.10357925,  0.09664954,  0.1048892 ,  0.10208876],\n",
       "       [ 0.0929028 ,  0.10551238,  0.10085927,  0.10215717,  0.09265797,\n",
       "         0.09937318,  0.10344893,  0.09619845,  0.10482091,  0.10206893],\n",
       "       [ 0.09245126,  0.10564137,  0.10049582,  0.1024447 ,  0.09288085,\n",
       "         0.09932999,  0.10335656,  0.09658867,  0.10444747,  0.10236332],\n",
       "       [ 0.09253806,  0.10541214,  0.10055293,  0.10260561,  0.09290489,\n",
       "         0.09914267,  0.10335281,  0.09644016,  0.10486364,  0.1021871 ],\n",
       "       [ 0.0926289 ,  0.10557349,  0.10093564,  0.1023017 ,  0.0924778 ,\n",
       "         0.0990974 ,  0.10369666,  0.09629988,  0.10473487,  0.10225367],\n",
       "       [ 0.09259371,  0.10594692,  0.10068554,  0.10244141,  0.09241381,\n",
       "         0.09922064,  0.10321493,  0.09665417,  0.10495363,  0.10187523],\n",
       "       [ 0.09250685,  0.10589583,  0.10041016,  0.10219104,  0.09286631,\n",
       "         0.09932655,  0.10348038,  0.09646654,  0.10471955,  0.10213679],\n",
       "       [ 0.09254938,  0.10548166,  0.10058863,  0.10193392,  0.09291789,\n",
       "         0.09936116,  0.1037828 ,  0.09650492,  0.10479196,  0.10208767],\n",
       "       [ 0.09230632,  0.1056594 ,  0.10083174,  0.10238181,  0.09295224,\n",
       "         0.09897661,  0.10339842,  0.09642182,  0.10475971,  0.10231192],\n",
       "       [ 0.09268163,  0.10553904,  0.10059262,  0.10234674,  0.09290624,\n",
       "         0.09907406,  0.10332845,  0.09664319,  0.10495712,  0.10193092],\n",
       "       [ 0.0926245 ,  0.1056351 ,  0.10059499,  0.10243586,  0.09283046,\n",
       "         0.09920028,  0.10338436,  0.09651021,  0.1046901 ,  0.10209414],\n",
       "       [ 0.09273871,  0.1054685 ,  0.10051303,  0.10214577,  0.09297354,\n",
       "         0.09953412,  0.10337704,  0.09635684,  0.10489223,  0.10200021],\n",
       "       [ 0.09279806,  0.10552653,  0.10080139,  0.10234456,  0.09339274,\n",
       "         0.09881965,  0.10324155,  0.09650357,  0.1047869 ,  0.10178506],\n",
       "       [ 0.09243215,  0.10589565,  0.10075676,  0.10209039,  0.09272223,\n",
       "         0.09907212,  0.10361017,  0.09649672,  0.10479896,  0.10212485],\n",
       "       [ 0.09227438,  0.1057787 ,  0.10038785,  0.10232466,  0.09342021,\n",
       "         0.09911779,  0.10351166,  0.09677848,  0.10450816,  0.10189811],\n",
       "       [ 0.09252576,  0.10560884,  0.10088153,  0.10245512,  0.09273902,\n",
       "         0.09927607,  0.10332168,  0.09653164,  0.10501511,  0.10164522],\n",
       "       [ 0.09236566,  0.10557629,  0.10085175,  0.10221799,  0.09312077,\n",
       "         0.09926747,  0.10345671,  0.09607012,  0.10485559,  0.10221765],\n",
       "       [ 0.09264085,  0.10587816,  0.10091125,  0.10219143,  0.09273823,\n",
       "         0.09917108,  0.10331871,  0.09642149,  0.10491187,  0.10181692],\n",
       "       [ 0.09250331,  0.10550718,  0.1004186 ,  0.10242874,  0.09296133,\n",
       "         0.09932063,  0.10312733,  0.09674697,  0.10495685,  0.10202904],\n",
       "       [ 0.09232509,  0.10567932,  0.10062695,  0.10216523,  0.09335949,\n",
       "         0.09887297,  0.10346343,  0.09674242,  0.10454971,  0.10221539],\n",
       "       [ 0.09254615,  0.10589256,  0.10090351,  0.10264614,  0.09290967,\n",
       "         0.09895577,  0.10324422,  0.09635121,  0.10452615,  0.10202461],\n",
       "       [ 0.09282629,  0.10579903,  0.1008048 ,  0.10239647,  0.09280153,\n",
       "         0.09880366,  0.10329861,  0.09648223,  0.10493118,  0.1018562 ],\n",
       "       [ 0.09222179,  0.10563971,  0.1008058 ,  0.10227667,  0.09287092,\n",
       "         0.09923258,  0.10352822,  0.09642337,  0.10472155,  0.1022794 ],\n",
       "       [ 0.0923337 ,  0.10565136,  0.10068681,  0.10183403,  0.0929533 ,\n",
       "         0.09914274,  0.10347421,  0.09656261,  0.10498452,  0.10237673],\n",
       "       [ 0.09289709,  0.10555501,  0.10048   ,  0.10228068,  0.09294402,\n",
       "         0.098889  ,  0.1035417 ,  0.09652017,  0.10482846,  0.10206388],\n",
       "       [ 0.09238678,  0.10590239,  0.10085023,  0.10240817,  0.09299826,\n",
       "         0.09895658,  0.10350056,  0.09656239,  0.1046976 ,  0.10173703],\n",
       "       [ 0.0922872 ,  0.10553192,  0.10090238,  0.10242033,  0.09292561,\n",
       "         0.09873851,  0.10372897,  0.09629466,  0.10518169,  0.10198873],\n",
       "       [ 0.09267794,  0.10569213,  0.1004744 ,  0.10208336,  0.09300645,\n",
       "         0.09924634,  0.10359279,  0.09612313,  0.1050005 ,  0.10210297],\n",
       "       [ 0.09251758,  0.10566917,  0.10076613,  0.10256271,  0.09262727,\n",
       "         0.09881941,  0.10338439,  0.09606274,  0.10522251,  0.10236809],\n",
       "       [ 0.09264301,  0.10578733,  0.10082717,  0.10231136,  0.09268474,\n",
       "         0.09905934,  0.10342767,  0.0963089 ,  0.10476348,  0.10218699],\n",
       "       [ 0.09278644,  0.10582174,  0.10093809,  0.10246152,  0.09263693,\n",
       "         0.09886822,  0.10364614,  0.09620439,  0.10472643,  0.1019101 ],\n",
       "       [ 0.09265824,  0.10585799,  0.10061058,  0.10217085,  0.09267781,\n",
       "         0.09914611,  0.10349382,  0.09670859,  0.10459009,  0.10208593],\n",
       "       [ 0.09249034,  0.10561065,  0.10073412,  0.10248384,  0.09301999,\n",
       "         0.09918523,  0.10330069,  0.0967186 ,  0.10485352,  0.10160302],\n",
       "       [ 0.09257371,  0.10572267,  0.1005747 ,  0.10277384,  0.09286026,\n",
       "         0.09899062,  0.10333223,  0.09623024,  0.10489162,  0.1020501 ],\n",
       "       [ 0.09245776,  0.1058873 ,  0.10060623,  0.10243747,  0.09256941,\n",
       "         0.09921878,  0.10359712,  0.09650769,  0.10471162,  0.10200661],\n",
       "       [ 0.0924351 ,  0.10569648,  0.10075757,  0.10265584,  0.09290781,\n",
       "         0.09924117,  0.10316262,  0.0963359 ,  0.10487474,  0.10193279],\n",
       "       [ 0.09262851,  0.10563959,  0.10068389,  0.10232312,  0.09275968,\n",
       "         0.09959838,  0.10327125,  0.09630494,  0.10476974,  0.10202089],\n",
       "       [ 0.09234389,  0.10577762,  0.10070886,  0.10212141,  0.09292721,\n",
       "         0.09910644,  0.10356373,  0.09636319,  0.10504844,  0.10203922],\n",
       "       [ 0.09254669,  0.10589295,  0.10048707,  0.10235844,  0.09283654,\n",
       "         0.09932486,  0.1032992 ,  0.09626456,  0.10479003,  0.10219966],\n",
       "       [ 0.09294281,  0.10584451,  0.10075274,  0.10197711,  0.0927749 ,\n",
       "         0.09948248,  0.10325125,  0.09604831,  0.10442979,  0.1024961 ],\n",
       "       [ 0.09271305,  0.10555043,  0.10070615,  0.10232009,  0.09286474,\n",
       "         0.09905667,  0.10321959,  0.09646918,  0.10456509,  0.10253501],\n",
       "       [ 0.09249605,  0.10601254,  0.10088395,  0.10236363,  0.09282839,\n",
       "         0.09870756,  0.10321379,  0.09641102,  0.10485414,  0.10222894],\n",
       "       [ 0.09271194,  0.10574194,  0.10070971,  0.10235574,  0.09294741,\n",
       "         0.09933801,  0.10332502,  0.09659506,  0.10432397,  0.1019512 ],\n",
       "       [ 0.0926615 ,  0.10566601,  0.10095485,  0.10231386,  0.09269183,\n",
       "         0.09937047,  0.10322725,  0.0964111 ,  0.10473934,  0.10196378],\n",
       "       [ 0.09274322,  0.10573521,  0.10060134,  0.10258694,  0.09281416,\n",
       "         0.09913362,  0.10319309,  0.09655379,  0.10479193,  0.1018467 ],\n",
       "       [ 0.09237038,  0.10562072,  0.10065172,  0.10224365,  0.09293137,\n",
       "         0.09934426,  0.10359883,  0.09653635,  0.10468256,  0.10202016],\n",
       "       [ 0.09279615,  0.1055505 ,  0.10073941,  0.10228293,  0.09277399,\n",
       "         0.09908148,  0.10347374,  0.09624244,  0.10496579,  0.10209357],\n",
       "       [ 0.09244975,  0.10592968,  0.10061967,  0.10225901,  0.09280064,\n",
       "         0.09908196,  0.1035026 ,  0.09637746,  0.10494259,  0.10203665],\n",
       "       [ 0.09258224,  0.10557663,  0.10082502,  0.10246705,  0.09278239,\n",
       "         0.09901493,  0.10349281,  0.09636221,  0.10473913,  0.1021576 ],\n",
       "       [ 0.09251221,  0.10580518,  0.10059341,  0.1021524 ,  0.09277016,\n",
       "         0.09903218,  0.10365888,  0.09653394,  0.10492162,  0.10202002],\n",
       "       [ 0.09254366,  0.10541157,  0.10083738,  0.10231796,  0.09285629,\n",
       "         0.09924957,  0.10340565,  0.0964514 ,  0.10500475,  0.10192177],\n",
       "       [ 0.09268402,  0.10582185,  0.10057596,  0.10207354,  0.09305987,\n",
       "         0.09907263,  0.10347083,  0.09648299,  0.10503545,  0.10172285],\n",
       "       [ 0.092674  ,  0.10522383,  0.10079763,  0.10232878,  0.09309916,\n",
       "         0.09917733,  0.10332136,  0.09637496,  0.10480958,  0.10219339],\n",
       "       [ 0.09250574,  0.10588449,  0.10044658,  0.10251121,  0.0928197 ,\n",
       "         0.09902795,  0.10368511,  0.09639338,  0.10481759,  0.10190824],\n",
       "       [ 0.09277706,  0.10544495,  0.100593  ,  0.10250164,  0.09297846,\n",
       "         0.09939086,  0.10342367,  0.09642126,  0.10472409,  0.10174501],\n",
       "       [ 0.09243605,  0.10581097,  0.10091826,  0.10257841,  0.09274239,\n",
       "         0.09885251,  0.10321469,  0.09631596,  0.10491468,  0.10221608],\n",
       "       [ 0.09253316,  0.10563269,  0.10107014,  0.10263434,  0.09280615,\n",
       "         0.09899362,  0.10330185,  0.09636546,  0.10476869,  0.10189389],\n",
       "       [ 0.09243336,  0.10591689,  0.10062754,  0.10247787,  0.09265867,\n",
       "         0.09926491,  0.10316095,  0.09666404,  0.10465077,  0.10214501],\n",
       "       [ 0.09249741,  0.10559391,  0.10071849,  0.10256925,  0.09294234,\n",
       "         0.09909988,  0.10345133,  0.09606911,  0.10509468,  0.1019636 ],\n",
       "       [ 0.09239351,  0.10579275,  0.10077294,  0.10229059,  0.09266279,\n",
       "         0.0991737 ,  0.1035263 ,  0.09630883,  0.1049563 ,  0.10212229],\n",
       "       [ 0.09257449,  0.10592082,  0.1006633 ,  0.1020849 ,  0.0927226 ,\n",
       "         0.0994736 ,  0.10336825,  0.09628623,  0.1050653 ,  0.10184051],\n",
       "       [ 0.0925801 ,  0.10550571,  0.10108813,  0.10238066,  0.09265923,\n",
       "         0.09932914,  0.10344522,  0.09606613,  0.10514156,  0.10180414],\n",
       "       [ 0.09230647,  0.10586193,  0.10075746,  0.10249355,  0.09289833,\n",
       "         0.09936323,  0.10310567,  0.09653145,  0.10459465,  0.10208726],\n",
       "       [ 0.09266896,  0.10579927,  0.1008739 ,  0.10187055,  0.09309322,\n",
       "         0.09928731,  0.10368237,  0.09632034,  0.10472776,  0.10167633],\n",
       "       [ 0.09247308,  0.10565176,  0.10097277,  0.10241212,  0.09302406,\n",
       "         0.09891905,  0.10351294,  0.09607318,  0.1046846 ,  0.10227644],\n",
       "       [ 0.09250051,  0.10532727,  0.10049353,  0.1022424 ,  0.09291723,\n",
       "         0.09906215,  0.10340448,  0.09675392,  0.10462783,  0.10267069],\n",
       "       [ 0.09265365,  0.10600461,  0.10056332,  0.10253174,  0.09268504,\n",
       "         0.09904971,  0.10328465,  0.09620283,  0.10482943,  0.10219502],\n",
       "       [ 0.09244144,  0.10553543,  0.10085705,  0.10236894,  0.09277633,\n",
       "         0.09902633,  0.10367489,  0.09641314,  0.10492572,  0.10198072],\n",
       "       [ 0.09278529,  0.10577976,  0.10095164,  0.1022067 ,  0.09271556,\n",
       "         0.09904502,  0.10340476,  0.09660511,  0.1047315 ,  0.10177465],\n",
       "       [ 0.09247787,  0.10556801,  0.10065888,  0.10232635,  0.09269787,\n",
       "         0.09894919,  0.10367252,  0.09634397,  0.10520062,  0.10210471],\n",
       "       [ 0.09251566,  0.1057747 ,  0.10082255,  0.10243564,  0.09282676,\n",
       "         0.09903006,  0.10343083,  0.09635097,  0.10481914,  0.1019937 ],\n",
       "       [ 0.09259765,  0.10555005,  0.10108783,  0.10230015,  0.09280762,\n",
       "         0.09921324,  0.10344337,  0.0962966 ,  0.10490949,  0.10179401],\n",
       "       [ 0.09269991,  0.10526231,  0.10048694,  0.10231727,  0.09305117,\n",
       "         0.09933189,  0.10336284,  0.0966544 ,  0.10485285,  0.10198041],\n",
       "       [ 0.09197343,  0.10558505,  0.10061369,  0.10240936,  0.09282464,\n",
       "         0.09925521,  0.10394944,  0.09621059,  0.10463991,  0.1025387 ],\n",
       "       [ 0.0921273 ,  0.10555839,  0.10046072,  0.1024992 ,  0.09291872,\n",
       "         0.09941206,  0.10345766,  0.09654247,  0.10501811,  0.10200537],\n",
       "       [ 0.09246428,  0.10587932,  0.10083391,  0.10214449,  0.09286038,\n",
       "         0.09886701,  0.10339585,  0.09617742,  0.10495316,  0.10242417],\n",
       "       [ 0.09241995,  0.10541751,  0.10063905,  0.10196636,  0.09302086,\n",
       "         0.09909687,  0.10384968,  0.09646438,  0.10484009,  0.10228527],\n",
       "       [ 0.09259942,  0.10554263,  0.10058341,  0.10197117,  0.09293631,\n",
       "         0.09911224,  0.10348746,  0.0966206 ,  0.10507856,  0.10206821],\n",
       "       [ 0.09244919,  0.10568564,  0.10084282,  0.10222729,  0.09301204,\n",
       "         0.09896395,  0.10368247,  0.09642155,  0.10470126,  0.1020138 ],\n",
       "       [ 0.09260644,  0.10586008,  0.10071924,  0.1021415 ,  0.09289945,\n",
       "         0.09913709,  0.10336168,  0.09627345,  0.10475455,  0.10224652]])"
      ]
     },
     "execution_count": 41,
     "metadata": {},
     "output_type": "execute_result"
    }
   ],
   "source": [
    "# 예측 처리 \n",
    "x = np.random.rand(100, 784)\n",
    "y = net.predict(x)"
   ]
  },
  {
   "cell_type": "code",
   "execution_count": null,
   "metadata": {
    "collapsed": true
   },
   "outputs": [],
   "source": [
    "x = np.random.rand(100, 784)   # 더미 입력 데이터(100장)\n",
    "t = np.random.rand(100, 0)     # 더미 정답 레이블(100장)\n",
    "\n",
    "grads = net.numerical_gradient(x, t) # 기울기 계산 \n",
    "\n",
    "grads['W1'].shape # (784, 100)\n",
    "grads['b1'].shape # (100,)\n",
    "grads['W2'].shape # (100, 10)\n",
    "grads['b2'].shape # (10, )"
   ]
  },
  {
   "cell_type": "code",
   "execution_count": null,
   "metadata": {
    "collapsed": true
   },
   "outputs": [],
   "source": [
    "# 오차역전파법 \n",
    "    def gradient(self, x, t):\n",
    "        W1, W2 = self.params['W1'], self.params['W2']\n",
    "        b1, b2 = self.params['b1'], self.params['b2']\n",
    "        grads = {}\n",
    "        \n",
    "        batch_num = x.shape[0]\n",
    "        \n",
    "        # forward\n",
    "        a1 = np.dot(x, W1) + b1\n",
    "        z1 = sigmoid(a1)\n",
    "        a2 = np.dot(z1, W2) + b2\n",
    "        y = softmax(a2)\n",
    "        \n",
    "        # backward\n",
    "        dy = (y - t) / batch_num\n",
    "        grads['W2'] = np.dot(z1.T, dy)\n",
    "        grads['b2'] = np.sum(dy, axis=0)\n",
    "        \n",
    "        da1 = np.dot(dy, W2.T)\n",
    "        dz1 = sigmoid_grad(a1) * da1\n",
    "        grads['W1'] = np.dot(x.T, dz1)\n",
    "        grads['b1'] = np.sum(dz1, axis=0)\n",
    "\n",
    "        return grads"
   ]
  },
  {
   "cell_type": "markdown",
   "metadata": {},
   "source": [
    "####     "
   ]
  },
  {
   "cell_type": "markdown",
   "metadata": {},
   "source": [
    "#### 미니배치 학습 구현하기"
   ]
  },
  {
   "cell_type": "code",
   "execution_count": 52,
   "metadata": {},
   "outputs": [
    {
     "data": {
      "image/png": "[encoded data removed]",
      "text/plain": [
       "<matplotlib.figure.Figure at 0x1edbbc2ae80>"
      ]
     },
     "metadata": {},
     "output_type": "display_data"
    }
   ],
   "source": [
    "# coding: utf-8\n",
    "import sys, os\n",
    "sys.path.append(os.pardir)  # 부모 디렉터리의 파일을 가져올 수 있도록 설정\n",
    "import numpy as np\n",
    "import matplotlib.pyplot as plt\n",
    "from dataset.mnist import load_mnist\n",
    "from two_layer_net import TwoLayerNet\n",
    "\n",
    "# 데이터 읽기\n",
    "(x_train, t_train), (x_test, t_test) = load_mnist(normalize=True, one_hot_label=True)\n",
    "\n",
    "network = TwoLayerNet(input_size=784, hidden_size=50, output_size=10)\n",
    "\n",
    "# 하이퍼파라미터\n",
    "iters_num = 10000  # 반복 횟수를 적절히 설정한다.\n",
    "train_size = x_train.shape[0]\n",
    "batch_size = 100   # 미니배치 크기\n",
    "learning_rate = 0.1\n",
    "\n",
    "train_loss_list = []\n",
    "\n",
    "\n",
    "for i in range(iters_num):\n",
    "    # 미니배치 획득\n",
    "    batch_mask = np.random.choice(train_size, batch_size)\n",
    "    x_batch = x_train[batch_mask]\n",
    "    t_batch = t_train[batch_mask]\n",
    "    \n",
    "    # 기울기 계산\n",
    "    #grad = network.numerical_gradient(x_batch, t_batch)\n",
    "    grad = network.gradient(x_batch, t_batch)\n",
    "    \n",
    "    # 매개변수 갱신\n",
    "    for key in ('W1', 'b1', 'W2', 'b2'):\n",
    "        network.params[key] -= learning_rate * grad[key]\n",
    "    \n",
    "    # 학습 경과 기록\n",
    "    loss = network.loss(x_batch, t_batch)\n",
    "    train_loss_list.append(loss)\n"
   ]
  },
  {
   "cell_type": "markdown",
   "metadata": {},
   "source": [
    "#### 코드 설명\n",
    "- 매번 60000개의 훈련 데이터에서 임의로 100개의 데이터(이미지데이터, 정답 레이블)를 추려냄\n",
    "- 뽑은 100개의 미니배치를 대상으로 확률적 경사 하강법 수행하여 매개변수 갱신\n",
    "- 경사법에 의한 갱신 횟수를 10000으로 설정하며 갱신할때마다 손실함수 게산 \n",
    "- 손실함수 값이 변화하는 추이를 그래프로 나타낸 것"
   ]
  },
  {
   "cell_type": "markdown",
   "metadata": {},
   "source": [
    "####      "
   ]
  },
  {
   "cell_type": "markdown",
   "metadata": {},
   "source": [
    "#### 학습도중 정기적으로 훈련데이터와 시험데이터의 정확도를 기록하자"
   ]
  },
  {
   "cell_type": "markdown",
   "metadata": {},
   "source": [
    "- 에폭은 학습에서 훈련 데이터를 모두 소진했을 때의 횟수에 해당함\n",
    "- 예를들어 훈련 데이터 10000개를 100개의 미니배치로 학습할 경우 확률 경사 하강법을 100반복하면 1에폭이 된 것"
   ]
  },
  {
   "cell_type": "raw",
   "metadata": {},
   "source": [
    "# coding: utf-8\n",
    "import sys, os\n",
    "sys.path.append(os.pardir)  # 부모 디렉터리의 파일을 가져올 수 있도록 설정\n",
    "import numpy as np\n",
    "import matplotlib.pyplot as plt\n",
    "from dataset.mnist import load_mnist\n",
    "from two_layer_net import TwoLayerNet\n",
    "\n",
    "# 데이터 읽기\n",
    "(x_train, t_train), (x_test, t_test) = load_mnist(normalize=True, one_hot_label=True)\n",
    "\n",
    "network = TwoLayerNet(input_size=784, hidden_size=50, output_size=10)\n",
    "\n",
    "# 하이퍼파라미터\n",
    "iters_num = 10000  # 반복 횟수를 적절히 설정한다.\n",
    "train_size = x_train.shape[0]\n",
    "batch_size = 100   # 미니배치 크기\n",
    "learning_rate = 0.1\n",
    "\n",
    "train_loss_list = []\n",
    "train_acc_list = []\n",
    "test_acc_list = []\n",
    "\n",
    "# 1에폭당 반복 수\n",
    "iter_per_epoch = max(train_size / batch_size, 1)\n",
    "\n",
    "for i in range(iters_num):\n",
    "    # 미니배치 획득\n",
    "    batch_mask = np.random.choice(train_size, batch_size)\n",
    "    x_batch = x_train[batch_mask]\n",
    "    t_batch = t_train[batch_mask]\n",
    "    \n",
    "    # 기울기 계산\n",
    "    #grad = network.numerical_gradient(x_batch, t_batch)\n",
    "    grad = network.gradient(x_batch, t_batch)\n",
    "    \n",
    "    # 매개변수 갱신\n",
    "    for key in ('W1', 'b1', 'W2', 'b2'):\n",
    "        network.params[key] -= learning_rate * grad[key]\n",
    "    \n",
    "    # 학습 경과 기록\n",
    "    loss = network.loss(x_batch, t_batch)\n",
    "    train_loss_list.append(loss)\n",
    "    \n",
    "    # 1에폭당 정확도 계산\n",
    "    if i % iter_per_epoch == 0:\n",
    "        train_acc = network.accuracy(x_train, t_train)\n",
    "        test_acc = network.accuracy(x_test, t_test)\n",
    "        train_acc_list.append(train_acc)\n",
    "        test_acc_list.append(test_acc)\n",
    "        print(\"train acc, test acc | \" + str(train_acc) + \", \" + str(test_acc))\n",
    "\n",
    "# 그래프 그리기\n",
    "markers = {'train': 'o', 'test': 's'}\n",
    "x = np.arange(len(train_acc_list))\n",
    "plt.plot(x, train_acc_list, label='train acc')\n",
    "plt.plot(x, test_acc_list, label='test acc', linestyle='--')\n",
    "plt.xlabel(\"epochs\")\n",
    "plt.ylabel(\"accuracy\")\n",
    "plt.ylim(0, 1.0)\n",
    "plt.legend(loc='lower right')\n",
    "plt.show()"
   ]
  },
  {
   "cell_type": "markdown",
   "metadata": {},
   "source": [
    "#### 정리\n",
    "- 기계학습에서 사용하는 데이터셋은 트레인 / 테스트 나눠서 사용\n",
    "- 훈련 데이터로 학습한 모델의 범용 능력을 시험 데이터로 평가\n",
    "- 신경망 학습은 손실 함수를 지표로, 손실 함수의 값이 작아지는 방향으로 가중치 매개변수를 갱신한다.\n",
    "- 가중치 매개변수를 갱신할 때는 가중치 매개변수의 기울기를 이용, 기울어진 방향으로 가중치 갱신작업 반복\n",
    "- 아주 작은 값을 주었을 때의 차분으로 미분하는 것을 수치 미분이라고 한다.\n",
    "- 수치 미분을 이용해 가중치 매개변수 기울기를 구한다\n",
    "- 수치 미분 이용한 계산은 시간이 걸리지만 오차역전파법을 이용하면 빠르게 구할 수 있다."
   ]
  }
 ],
 "metadata": {
  "anaconda-cloud": {},
  "kernelspec": {
   "display_name": "Python [conda root]",
   "language": "python",
   "name": "conda-root-py"
  },
  "language_info": {
   "codemirror_mode": {
    "name": "ipython",
    "version": 3
   },
   "file_extension": ".py",
   "mimetype": "text/x-python",
   "name": "python",
   "nbconvert_exporter": "python",
   "pygments_lexer": "ipython3",
   "version": "3.5.4"
  }
 },
 "nbformat": 4,
 "nbformat_minor": 2
}
